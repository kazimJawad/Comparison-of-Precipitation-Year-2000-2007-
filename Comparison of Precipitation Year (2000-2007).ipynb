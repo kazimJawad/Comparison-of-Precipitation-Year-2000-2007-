{
 "cells": [
  {
   "cell_type": "code",
   "execution_count": 1,
   "id": "34cc4bd5",
   "metadata": {
    "_cell_guid": "b1076dfc-b9ad-4769-8c92-a6c4dae69d19",
    "_uuid": "8f2839f25d086af736a60e9eeb907d3b93b6e0e5",
    "execution": {
     "iopub.execute_input": "2022-09-14T11:36:07.049245Z",
     "iopub.status.busy": "2022-09-14T11:36:07.047783Z",
     "iopub.status.idle": "2022-09-14T11:36:08.237001Z",
     "shell.execute_reply": "2022-09-14T11:36:08.235694Z"
    },
    "papermill": {
     "duration": 1.200911,
     "end_time": "2022-09-14T11:36:08.240007",
     "exception": false,
     "start_time": "2022-09-14T11:36:07.039096",
     "status": "completed"
    },
    "tags": []
   },
   "outputs": [],
   "source": [
    "import numpy as np\n",
    "import matplotlib.pyplot as plt\n",
    "%matplotlib inline\n",
    "import pandas as pd\n",
    "import os\n",
    "import seaborn as sns\n",
    "\n",
    "sns.set(font_scale=1.5, style=\"whitegrid\")"
   ]
  },
  {
   "cell_type": "code",
   "execution_count": 2,
   "id": "3a9e05a6",
   "metadata": {
    "execution": {
     "iopub.execute_input": "2022-09-14T11:36:08.252851Z",
     "iopub.status.busy": "2022-09-14T11:36:08.252395Z",
     "iopub.status.idle": "2022-09-14T11:36:08.516047Z",
     "shell.execute_reply": "2022-09-14T11:36:08.514728Z"
    },
    "papermill": {
     "duration": 0.273209,
     "end_time": "2022-09-14T11:36:08.518892",
     "exception": false,
     "start_time": "2022-09-14T11:36:08.245683",
     "status": "completed"
    },
    "tags": []
   },
   "outputs": [],
   "source": [
    "df = np.genfromtxt('../input/perception-year-2000-2007/data_file.txt',delimiter=\"\\t\")"
   ]
  },
  {
   "cell_type": "code",
   "execution_count": 3,
   "id": "79498a60",
   "metadata": {
    "execution": {
     "iopub.execute_input": "2022-09-14T11:36:08.531568Z",
     "iopub.status.busy": "2022-09-14T11:36:08.531169Z",
     "iopub.status.idle": "2022-09-14T11:36:08.538937Z",
     "shell.execute_reply": "2022-09-14T11:36:08.537934Z"
    },
    "papermill": {
     "duration": 0.017249,
     "end_time": "2022-09-14T11:36:08.541642",
     "exception": false,
     "start_time": "2022-09-14T11:36:08.524393",
     "status": "completed"
    },
    "tags": []
   },
   "outputs": [],
   "source": [
    "mean = np.mean(df[:,6])\n",
    "std=np.std(df[:,6])"
   ]
  },
  {
   "cell_type": "code",
   "execution_count": 4,
   "id": "f867810b",
   "metadata": {
    "execution": {
     "iopub.execute_input": "2022-09-14T11:36:08.554385Z",
     "iopub.status.busy": "2022-09-14T11:36:08.553989Z",
     "iopub.status.idle": "2022-09-14T11:36:09.470475Z",
     "shell.execute_reply": "2022-09-14T11:36:09.468552Z"
    },
    "papermill": {
     "duration": 0.926226,
     "end_time": "2022-09-14T11:36:09.473471",
     "exception": false,
     "start_time": "2022-09-14T11:36:08.547245",
     "status": "completed"
    },
    "tags": []
   },
   "outputs": [
    {
     "data": {
      "text/plain": [
       "<matplotlib.legend.Legend at 0x7f3363b90390>"
      ]
     },
     "execution_count": 4,
     "metadata": {},
     "output_type": "execute_result"
    },
    {
     "data": {
      "image/png": "[encoded data removed]",
      "text/plain": [
       "<Figure size 432x288 with 1 Axes>"
      ]
     },
     "metadata": {},
     "output_type": "display_data"
    }
   ],
   "source": [
    "from scipy.stats import norm\n",
    "plt.plot(df[:,6], norm.pdf(df[:,6], mean+std), label='μ + 1σ')\n",
    "plt.plot(df[:,6], norm.pdf(df[:,6], mean+2*std), label='μ + 2σ')\n",
    "plt.legend()"
   ]
  },
  {
   "cell_type": "code",
   "execution_count": 5,
   "id": "8f9d464e",
   "metadata": {
    "execution": {
     "iopub.execute_input": "2022-09-14T11:36:09.493774Z",
     "iopub.status.busy": "2022-09-14T11:36:09.493150Z",
     "iopub.status.idle": "2022-09-14T11:36:09.554349Z",
     "shell.execute_reply": "2022-09-14T11:36:09.552971Z"
    },
    "papermill": {
     "duration": 0.07582,
     "end_time": "2022-09-14T11:36:09.557093",
     "exception": false,
     "start_time": "2022-09-14T11:36:09.481273",
     "status": "completed"
    },
    "tags": []
   },
   "outputs": [
    {
     "data": {
      "text/plain": [
       "Index(['# STATION', 'STATION_NAME', 'ELEVATION', 'LATITUDE', 'LONGITUDE',\n",
       "       'DATE', 'HPCP(cm)'],\n",
       "      dtype='object')"
      ]
     },
     "execution_count": 5,
     "metadata": {},
     "output_type": "execute_result"
    }
   ],
   "source": [
    "df = pd.read_csv('../input/perception-year-2000-2007/data_file.txt', sep=\"\\t\")\n",
    "df.columns"
   ]
  },
  {
   "cell_type": "code",
   "execution_count": 6,
   "id": "db9dacca",
   "metadata": {
    "execution": {
     "iopub.execute_input": "2022-09-14T11:36:09.580441Z",
     "iopub.status.busy": "2022-09-14T11:36:09.575882Z",
     "iopub.status.idle": "2022-09-14T11:36:09.616879Z",
     "shell.execute_reply": "2022-09-14T11:36:09.615556Z"
    },
    "papermill": {
     "duration": 0.053844,
     "end_time": "2022-09-14T11:36:09.619793",
     "exception": false,
     "start_time": "2022-09-14T11:36:09.565949",
     "status": "completed"
    },
    "tags": []
   },
   "outputs": [],
   "source": [
    "def dateTime(x):\n",
    "    x = x.split()\n",
    "    return x[0][:4]+\"-\"+x[0][4:6]+\"-\"+x[0][6:8]+\" \" +x[1]\n",
    "df[\"date and time\"]=df[\"DATE\"].apply(dateTime)"
   ]
  },
  {
   "cell_type": "code",
   "execution_count": 7,
   "id": "01e974ff",
   "metadata": {
    "execution": {
     "iopub.execute_input": "2022-09-14T11:36:09.634120Z",
     "iopub.status.busy": "2022-09-14T11:36:09.633235Z",
     "iopub.status.idle": "2022-09-14T11:36:09.662670Z",
     "shell.execute_reply": "2022-09-14T11:36:09.661706Z"
    },
    "papermill": {
     "duration": 0.039224,
     "end_time": "2022-09-14T11:36:09.665248",
     "exception": false,
     "start_time": "2022-09-14T11:36:09.626024",
     "status": "completed"
    },
    "tags": []
   },
   "outputs": [
    {
     "name": "stdout",
     "output_type": "stream",
     "text": [
      "<class 'pandas.core.frame.DataFrame'>\n",
      "RangeIndex: 23839 entries, 0 to 23838\n",
      "Data columns (total 8 columns):\n",
      " #   Column         Non-Null Count  Dtype  \n",
      "---  ------         --------------  -----  \n",
      " 0   # STATION      23839 non-null  object \n",
      " 1   STATION_NAME   23839 non-null  object \n",
      " 2   ELEVATION      23839 non-null  float64\n",
      " 3   LATITUDE       23839 non-null  float64\n",
      " 4   LONGITUDE      23839 non-null  float64\n",
      " 5   DATE           23839 non-null  object \n",
      " 6   HPCP(cm)       23839 non-null  float64\n",
      " 7   date and time  23839 non-null  object \n",
      "dtypes: float64(4), object(4)\n",
      "memory usage: 1.5+ MB\n"
     ]
    }
   ],
   "source": [
    "df.info()"
   ]
  },
  {
   "cell_type": "code",
   "execution_count": 8,
   "id": "f77ea80b",
   "metadata": {
    "execution": {
     "iopub.execute_input": "2022-09-14T11:36:09.680318Z",
     "iopub.status.busy": "2022-09-14T11:36:09.679845Z",
     "iopub.status.idle": "2022-09-14T11:36:10.018038Z",
     "shell.execute_reply": "2022-09-14T11:36:10.017126Z"
    },
    "papermill": {
     "duration": 0.349208,
     "end_time": "2022-09-14T11:36:10.020800",
     "exception": false,
     "start_time": "2022-09-14T11:36:09.671592",
     "status": "completed"
    },
    "tags": []
   },
   "outputs": [
    {
     "data": {
      "image/png": "[encoded data removed]",
      "text/plain": [
       "<Figure size 720x720 with 1 Axes>"
      ]
     },
     "metadata": {},
     "output_type": "display_data"
    }
   ],
   "source": [
    "fig, ax = plt.subplots(figsize=(10, 10))\n",
    "\n",
    "# Add x-axis and y-axis\n",
    "ax.scatter(df.index.values,\n",
    "        df[\"HPCP(cm)\"],\n",
    "        color='purple')\n",
    "\n",
    "# Set title and labels for axes\n",
    "ax.set(xlabel=\"Date\",\n",
    "       ylabel=\"Precipitation (inches)\",\n",
    "       title=\"Daily Total Precipitation\")\n",
    "\n",
    "plt.show()"
   ]
  },
  {
   "cell_type": "code",
   "execution_count": 9,
   "id": "924925c4",
   "metadata": {
    "execution": {
     "iopub.execute_input": "2022-09-14T11:36:10.037516Z",
     "iopub.status.busy": "2022-09-14T11:36:10.036865Z",
     "iopub.status.idle": "2022-09-14T11:36:10.085167Z",
     "shell.execute_reply": "2022-09-14T11:36:10.083513Z"
    },
    "papermill": {
     "duration": 0.060666,
     "end_time": "2022-09-14T11:36:10.088773",
     "exception": false,
     "start_time": "2022-09-14T11:36:10.028107",
     "status": "completed"
    },
    "tags": []
   },
   "outputs": [],
   "source": [
    "df1 = pd.read_csv(\"../input/perception-year-2000-2007/from2000-2007.txt\")"
   ]
  },
  {
   "cell_type": "code",
   "execution_count": 10,
   "id": "32b7bafb",
   "metadata": {
    "execution": {
     "iopub.execute_input": "2022-09-14T11:36:10.105102Z",
     "iopub.status.busy": "2022-09-14T11:36:10.104269Z",
     "iopub.status.idle": "2022-09-14T11:36:10.422476Z",
     "shell.execute_reply": "2022-09-14T11:36:10.421124Z"
    },
    "papermill": {
     "duration": 0.329605,
     "end_time": "2022-09-14T11:36:10.425349",
     "exception": false,
     "start_time": "2022-09-14T11:36:10.095744",
     "status": "completed"
    },
    "tags": []
   },
   "outputs": [
    {
     "data": {
      "image/png": "[encoded data removed]",
      "text/plain": [
       "<Figure size 720x720 with 1 Axes>"
      ]
     },
     "metadata": {},
     "output_type": "display_data"
    }
   ],
   "source": [
    "# this scatter plot is extra and not asked to create in the document =\n",
    "fig, ax = plt.subplots(figsize=(10, 10))\n",
    "\n",
    "# Add x-axis and y-axis\n",
    "ax.scatter(df1.index.values,\n",
    "        df1[\"HPCP(cm)\"],\n",
    "        color='purple')\n",
    "\n",
    "# Set title and labels for axes\n",
    "ax.set(xlabel=\"Date\",\n",
    "       ylabel=\"Precipitation (meters)\",\n",
    "       title=\"Total Precipitation From 2000 to 2007\")\n",
    "\n",
    "plt.show()"
   ]
  },
  {
   "cell_type": "code",
   "execution_count": 11,
   "id": "93171fcd",
   "metadata": {
    "execution": {
     "iopub.execute_input": "2022-09-14T11:36:10.443471Z",
     "iopub.status.busy": "2022-09-14T11:36:10.443020Z",
     "iopub.status.idle": "2022-09-14T11:36:10.448440Z",
     "shell.execute_reply": "2022-09-14T11:36:10.447174Z"
    },
    "papermill": {
     "duration": 0.017837,
     "end_time": "2022-09-14T11:36:10.451505",
     "exception": false,
     "start_time": "2022-09-14T11:36:10.433668",
     "status": "completed"
    },
    "tags": []
   },
   "outputs": [],
   "source": [
    "df2 = df1.head(1674)"
   ]
  },
  {
   "cell_type": "code",
   "execution_count": 12,
   "id": "1fe1826a",
   "metadata": {
    "execution": {
     "iopub.execute_input": "2022-09-14T11:36:10.470780Z",
     "iopub.status.busy": "2022-09-14T11:36:10.470275Z",
     "iopub.status.idle": "2022-09-14T11:36:10.501903Z",
     "shell.execute_reply": "2022-09-14T11:36:10.500205Z"
    },
    "papermill": {
     "duration": 0.045673,
     "end_time": "2022-09-14T11:36:10.506130",
     "exception": false,
     "start_time": "2022-09-14T11:36:10.460457",
     "status": "completed"
    },
    "tags": []
   },
   "outputs": [
    {
     "name": "stdout",
     "output_type": "stream",
     "text": [
      "Data of 2000\n"
     ]
    },
    {
     "data": {
      "text/html": [
       "<div>\n",
       "<style scoped>\n",
       "    .dataframe tbody tr th:only-of-type {\n",
       "        vertical-align: middle;\n",
       "    }\n",
       "\n",
       "    .dataframe tbody tr th {\n",
       "        vertical-align: top;\n",
       "    }\n",
       "\n",
       "    .dataframe thead th {\n",
       "        text-align: right;\n",
       "    }\n",
       "</style>\n",
       "<table border=\"1\" class=\"dataframe\">\n",
       "  <thead>\n",
       "    <tr style=\"text-align: right;\">\n",
       "      <th></th>\n",
       "      <th># STATION</th>\n",
       "      <th>STATION_NAME</th>\n",
       "      <th>ELEVATION</th>\n",
       "      <th>LATITUDE</th>\n",
       "      <th>LONGITUDE</th>\n",
       "      <th>DATE</th>\n",
       "      <th>HPCP(cm)</th>\n",
       "      <th>date and time</th>\n",
       "    </tr>\n",
       "  </thead>\n",
       "  <tbody>\n",
       "    <tr>\n",
       "      <th>0</th>\n",
       "      <td>COOP:352709</td>\n",
       "      <td>EUGENE MAHLON SWEET FIELD OR US</td>\n",
       "      <td>107.6</td>\n",
       "      <td>44.12778</td>\n",
       "      <td>-123.22056</td>\n",
       "      <td>20000101 01:00</td>\n",
       "      <td>0.00</td>\n",
       "      <td>1/1/2000 1:00</td>\n",
       "    </tr>\n",
       "    <tr>\n",
       "      <th>1</th>\n",
       "      <td>COOP:352709</td>\n",
       "      <td>EUGENE MAHLON SWEET FIELD OR US</td>\n",
       "      <td>107.6</td>\n",
       "      <td>44.12778</td>\n",
       "      <td>-123.22056</td>\n",
       "      <td>20000101 02:00</td>\n",
       "      <td>0.00</td>\n",
       "      <td>1/1/2000 2:00</td>\n",
       "    </tr>\n",
       "    <tr>\n",
       "      <th>2</th>\n",
       "      <td>COOP:352709</td>\n",
       "      <td>EUGENE MAHLON SWEET FIELD OR US</td>\n",
       "      <td>107.6</td>\n",
       "      <td>44.12778</td>\n",
       "      <td>-123.22056</td>\n",
       "      <td>20000101 05:00</td>\n",
       "      <td>0.00</td>\n",
       "      <td>1/1/2000 5:00</td>\n",
       "    </tr>\n",
       "    <tr>\n",
       "      <th>3</th>\n",
       "      <td>COOP:352709</td>\n",
       "      <td>EUGENE MAHLON SWEET FIELD OR US</td>\n",
       "      <td>107.6</td>\n",
       "      <td>44.12778</td>\n",
       "      <td>-123.22056</td>\n",
       "      <td>20000101 06:00</td>\n",
       "      <td>0.00</td>\n",
       "      <td>1/1/2000 6:00</td>\n",
       "    </tr>\n",
       "    <tr>\n",
       "      <th>4</th>\n",
       "      <td>COOP:352709</td>\n",
       "      <td>EUGENE MAHLON SWEET FIELD OR US</td>\n",
       "      <td>107.6</td>\n",
       "      <td>44.12778</td>\n",
       "      <td>-123.22056</td>\n",
       "      <td>20000101 08:00</td>\n",
       "      <td>0.51</td>\n",
       "      <td>1/1/2000 8:00</td>\n",
       "    </tr>\n",
       "    <tr>\n",
       "      <th>...</th>\n",
       "      <td>...</td>\n",
       "      <td>...</td>\n",
       "      <td>...</td>\n",
       "      <td>...</td>\n",
       "      <td>...</td>\n",
       "      <td>...</td>\n",
       "      <td>...</td>\n",
       "      <td>...</td>\n",
       "    </tr>\n",
       "    <tr>\n",
       "      <th>1669</th>\n",
       "      <td>COOP:352709</td>\n",
       "      <td>EUGENE MAHLON SWEET FIELD OR US</td>\n",
       "      <td>107.6</td>\n",
       "      <td>44.12778</td>\n",
       "      <td>-123.22056</td>\n",
       "      <td>20001229 22:00</td>\n",
       "      <td>0.00</td>\n",
       "      <td>12/29/2000 22:00</td>\n",
       "    </tr>\n",
       "    <tr>\n",
       "      <th>1670</th>\n",
       "      <td>COOP:352709</td>\n",
       "      <td>EUGENE MAHLON SWEET FIELD OR US</td>\n",
       "      <td>107.6</td>\n",
       "      <td>44.12778</td>\n",
       "      <td>-123.22056</td>\n",
       "      <td>20001229 23:00</td>\n",
       "      <td>0.00</td>\n",
       "      <td>12/29/2000 23:00</td>\n",
       "    </tr>\n",
       "    <tr>\n",
       "      <th>1671</th>\n",
       "      <td>COOP:352709</td>\n",
       "      <td>EUGENE MAHLON SWEET FIELD OR US</td>\n",
       "      <td>107.6</td>\n",
       "      <td>44.12778</td>\n",
       "      <td>-123.22056</td>\n",
       "      <td>20001231 03:00</td>\n",
       "      <td>0.25</td>\n",
       "      <td>12/31/2000 3:00</td>\n",
       "    </tr>\n",
       "    <tr>\n",
       "      <th>1672</th>\n",
       "      <td>COOP:352709</td>\n",
       "      <td>EUGENE MAHLON SWEET FIELD OR US</td>\n",
       "      <td>107.6</td>\n",
       "      <td>44.12778</td>\n",
       "      <td>-123.22056</td>\n",
       "      <td>20001231 06:00</td>\n",
       "      <td>0.00</td>\n",
       "      <td>12/31/2000 6:00</td>\n",
       "    </tr>\n",
       "    <tr>\n",
       "      <th>1673</th>\n",
       "      <td>COOP:352709</td>\n",
       "      <td>EUGENE MAHLON SWEET FIELD OR US</td>\n",
       "      <td>107.6</td>\n",
       "      <td>44.12778</td>\n",
       "      <td>-123.22056</td>\n",
       "      <td>20010101 01:00</td>\n",
       "      <td>0.00</td>\n",
       "      <td>1/1/2001 1:00</td>\n",
       "    </tr>\n",
       "  </tbody>\n",
       "</table>\n",
       "<p>1674 rows × 8 columns</p>\n",
       "</div>"
      ],
      "text/plain": [
       "        # STATION                     STATION_NAME  ELEVATION  LATITUDE  \\\n",
       "0     COOP:352709  EUGENE MAHLON SWEET FIELD OR US      107.6  44.12778   \n",
       "1     COOP:352709  EUGENE MAHLON SWEET FIELD OR US      107.6  44.12778   \n",
       "2     COOP:352709  EUGENE MAHLON SWEET FIELD OR US      107.6  44.12778   \n",
       "3     COOP:352709  EUGENE MAHLON SWEET FIELD OR US      107.6  44.12778   \n",
       "4     COOP:352709  EUGENE MAHLON SWEET FIELD OR US      107.6  44.12778   \n",
       "...           ...                              ...        ...       ...   \n",
       "1669  COOP:352709  EUGENE MAHLON SWEET FIELD OR US      107.6  44.12778   \n",
       "1670  COOP:352709  EUGENE MAHLON SWEET FIELD OR US      107.6  44.12778   \n",
       "1671  COOP:352709  EUGENE MAHLON SWEET FIELD OR US      107.6  44.12778   \n",
       "1672  COOP:352709  EUGENE MAHLON SWEET FIELD OR US      107.6  44.12778   \n",
       "1673  COOP:352709  EUGENE MAHLON SWEET FIELD OR US      107.6  44.12778   \n",
       "\n",
       "      LONGITUDE            DATE  HPCP(cm)     date and time  \n",
       "0    -123.22056  20000101 01:00      0.00     1/1/2000 1:00  \n",
       "1    -123.22056  20000101 02:00      0.00     1/1/2000 2:00  \n",
       "2    -123.22056  20000101 05:00      0.00     1/1/2000 5:00  \n",
       "3    -123.22056  20000101 06:00      0.00     1/1/2000 6:00  \n",
       "4    -123.22056  20000101 08:00      0.51     1/1/2000 8:00  \n",
       "...         ...             ...       ...               ...  \n",
       "1669 -123.22056  20001229 22:00      0.00  12/29/2000 22:00  \n",
       "1670 -123.22056  20001229 23:00      0.00  12/29/2000 23:00  \n",
       "1671 -123.22056  20001231 03:00      0.25   12/31/2000 3:00  \n",
       "1672 -123.22056  20001231 06:00      0.00   12/31/2000 6:00  \n",
       "1673 -123.22056  20010101 01:00      0.00     1/1/2001 1:00  \n",
       "\n",
       "[1674 rows x 8 columns]"
      ]
     },
     "execution_count": 12,
     "metadata": {},
     "output_type": "execute_result"
    }
   ],
   "source": [
    "print(\"Data of 2000\")\n",
    "df2"
   ]
  },
  {
   "cell_type": "code",
   "execution_count": 13,
   "id": "83772b40",
   "metadata": {
    "execution": {
     "iopub.execute_input": "2022-09-14T11:36:10.525635Z",
     "iopub.status.busy": "2022-09-14T11:36:10.525220Z",
     "iopub.status.idle": "2022-09-14T11:36:10.531198Z",
     "shell.execute_reply": "2022-09-14T11:36:10.529994Z"
    },
    "papermill": {
     "duration": 0.018827,
     "end_time": "2022-09-14T11:36:10.533872",
     "exception": false,
     "start_time": "2022-09-14T11:36:10.515045",
     "status": "completed"
    },
    "tags": []
   },
   "outputs": [],
   "source": [
    "val = df2[\"HPCP(cm)\"].sum() # sum of data of 2000"
   ]
  },
  {
   "cell_type": "markdown",
   "id": "00261102",
   "metadata": {
    "papermill": {
     "duration": 0.007973,
     "end_time": "2022-09-14T11:36:10.550206",
     "exception": false,
     "start_time": "2022-09-14T11:36:10.542233",
     "status": "completed"
    },
    "tags": []
   },
   "source": [
    "#### Now we convert the above value from cm to m "
   ]
  },
  {
   "cell_type": "code",
   "execution_count": 14,
   "id": "aea7dd15",
   "metadata": {
    "execution": {
     "iopub.execute_input": "2022-09-14T11:36:10.568719Z",
     "iopub.status.busy": "2022-09-14T11:36:10.568252Z",
     "iopub.status.idle": "2022-09-14T11:36:10.575145Z",
     "shell.execute_reply": "2022-09-14T11:36:10.573643Z"
    },
    "papermill": {
     "duration": 0.020974,
     "end_time": "2022-09-14T11:36:10.579482",
     "exception": false,
     "start_time": "2022-09-14T11:36:10.558508",
     "status": "completed"
    },
    "tags": []
   },
   "outputs": [
    {
     "name": "stdout",
     "output_type": "stream",
     "text": [
      "Total precipitation was there in 2000 in meters:  8.6327 Meters\n"
     ]
    }
   ],
   "source": [
    "final_value = val*0.01\n",
    "print(\"Total precipitation was there in 2000 in meters: \", final_value, \"Meters\")"
   ]
  },
  {
   "cell_type": "code",
   "execution_count": 15,
   "id": "3b136f05",
   "metadata": {
    "execution": {
     "iopub.execute_input": "2022-09-14T11:36:10.599695Z",
     "iopub.status.busy": "2022-09-14T11:36:10.599245Z",
     "iopub.status.idle": "2022-09-14T11:36:10.624843Z",
     "shell.execute_reply": "2022-09-14T11:36:10.622951Z"
    },
    "papermill": {
     "duration": 0.038572,
     "end_time": "2022-09-14T11:36:10.627991",
     "exception": false,
     "start_time": "2022-09-14T11:36:10.589419",
     "status": "completed"
    },
    "tags": []
   },
   "outputs": [
    {
     "name": "stdout",
     "output_type": "stream",
     "text": [
      "Data of 2007\n"
     ]
    },
    {
     "data": {
      "text/html": [
       "<div>\n",
       "<style scoped>\n",
       "    .dataframe tbody tr th:only-of-type {\n",
       "        vertical-align: middle;\n",
       "    }\n",
       "\n",
       "    .dataframe tbody tr th {\n",
       "        vertical-align: top;\n",
       "    }\n",
       "\n",
       "    .dataframe thead th {\n",
       "        text-align: right;\n",
       "    }\n",
       "</style>\n",
       "<table border=\"1\" class=\"dataframe\">\n",
       "  <thead>\n",
       "    <tr style=\"text-align: right;\">\n",
       "      <th></th>\n",
       "      <th># STATION</th>\n",
       "      <th>STATION_NAME</th>\n",
       "      <th>ELEVATION</th>\n",
       "      <th>LATITUDE</th>\n",
       "      <th>LONGITUDE</th>\n",
       "      <th>DATE</th>\n",
       "      <th>HPCP(cm)</th>\n",
       "      <th>date and time</th>\n",
       "    </tr>\n",
       "  </thead>\n",
       "  <tbody>\n",
       "    <tr>\n",
       "      <th>11951</th>\n",
       "      <td>COOP:352709</td>\n",
       "      <td>EUGENE MAHLON SWEET FIELD OR US</td>\n",
       "      <td>107.6</td>\n",
       "      <td>44.1278</td>\n",
       "      <td>-123.2206</td>\n",
       "      <td>20070101 14:00</td>\n",
       "      <td>0.00</td>\n",
       "      <td>1/1/2007 14:00</td>\n",
       "    </tr>\n",
       "    <tr>\n",
       "      <th>11952</th>\n",
       "      <td>COOP:352709</td>\n",
       "      <td>EUGENE MAHLON SWEET FIELD OR US</td>\n",
       "      <td>107.6</td>\n",
       "      <td>44.1278</td>\n",
       "      <td>-123.2206</td>\n",
       "      <td>20070101 15:00</td>\n",
       "      <td>0.00</td>\n",
       "      <td>1/1/2007 15:00</td>\n",
       "    </tr>\n",
       "    <tr>\n",
       "      <th>11953</th>\n",
       "      <td>COOP:352709</td>\n",
       "      <td>EUGENE MAHLON SWEET FIELD OR US</td>\n",
       "      <td>107.6</td>\n",
       "      <td>44.1278</td>\n",
       "      <td>-123.2206</td>\n",
       "      <td>20070102 17:00</td>\n",
       "      <td>0.25</td>\n",
       "      <td>1/2/2007 17:00</td>\n",
       "    </tr>\n",
       "    <tr>\n",
       "      <th>11954</th>\n",
       "      <td>COOP:352709</td>\n",
       "      <td>EUGENE MAHLON SWEET FIELD OR US</td>\n",
       "      <td>107.6</td>\n",
       "      <td>44.1278</td>\n",
       "      <td>-123.2206</td>\n",
       "      <td>20070102 18:00</td>\n",
       "      <td>4.83</td>\n",
       "      <td>1/2/2007 18:00</td>\n",
       "    </tr>\n",
       "    <tr>\n",
       "      <th>11955</th>\n",
       "      <td>COOP:352709</td>\n",
       "      <td>EUGENE MAHLON SWEET FIELD OR US</td>\n",
       "      <td>107.6</td>\n",
       "      <td>44.1278</td>\n",
       "      <td>-123.2206</td>\n",
       "      <td>20070102 19:00</td>\n",
       "      <td>3.56</td>\n",
       "      <td>1/2/2007 19:00</td>\n",
       "    </tr>\n",
       "    <tr>\n",
       "      <th>...</th>\n",
       "      <td>...</td>\n",
       "      <td>...</td>\n",
       "      <td>...</td>\n",
       "      <td>...</td>\n",
       "      <td>...</td>\n",
       "      <td>...</td>\n",
       "      <td>...</td>\n",
       "      <td>...</td>\n",
       "    </tr>\n",
       "    <tr>\n",
       "      <th>13663</th>\n",
       "      <td>COOP:352709</td>\n",
       "      <td>EUGENE MAHLON SWEET FIELD OR US</td>\n",
       "      <td>107.6</td>\n",
       "      <td>44.1278</td>\n",
       "      <td>-123.2206</td>\n",
       "      <td>20071230 14:00</td>\n",
       "      <td>0.00</td>\n",
       "      <td>12/30/2007 14:00</td>\n",
       "    </tr>\n",
       "    <tr>\n",
       "      <th>13664</th>\n",
       "      <td>COOP:352709</td>\n",
       "      <td>EUGENE MAHLON SWEET FIELD OR US</td>\n",
       "      <td>107.6</td>\n",
       "      <td>44.1278</td>\n",
       "      <td>-123.2206</td>\n",
       "      <td>20071230 15:00</td>\n",
       "      <td>0.00</td>\n",
       "      <td>12/30/2007 15:00</td>\n",
       "    </tr>\n",
       "    <tr>\n",
       "      <th>13665</th>\n",
       "      <td>COOP:352709</td>\n",
       "      <td>EUGENE MAHLON SWEET FIELD OR US</td>\n",
       "      <td>107.6</td>\n",
       "      <td>44.1278</td>\n",
       "      <td>-123.2206</td>\n",
       "      <td>20071230 16:00</td>\n",
       "      <td>1.27</td>\n",
       "      <td>12/30/2007 16:00</td>\n",
       "    </tr>\n",
       "    <tr>\n",
       "      <th>13666</th>\n",
       "      <td>COOP:352709</td>\n",
       "      <td>EUGENE MAHLON SWEET FIELD OR US</td>\n",
       "      <td>107.6</td>\n",
       "      <td>44.1278</td>\n",
       "      <td>-123.2206</td>\n",
       "      <td>20071230 17:00</td>\n",
       "      <td>0.25</td>\n",
       "      <td>12/30/2007 17:00</td>\n",
       "    </tr>\n",
       "    <tr>\n",
       "      <th>13667</th>\n",
       "      <td>COOP:352709</td>\n",
       "      <td>EUGENE MAHLON SWEET FIELD OR US</td>\n",
       "      <td>107.6</td>\n",
       "      <td>44.1278</td>\n",
       "      <td>-123.2206</td>\n",
       "      <td>20071230 18:00</td>\n",
       "      <td>0.25</td>\n",
       "      <td>12/30/2007 18:00</td>\n",
       "    </tr>\n",
       "  </tbody>\n",
       "</table>\n",
       "<p>1717 rows × 8 columns</p>\n",
       "</div>"
      ],
      "text/plain": [
       "         # STATION                     STATION_NAME  ELEVATION  LATITUDE  \\\n",
       "11951  COOP:352709  EUGENE MAHLON SWEET FIELD OR US      107.6   44.1278   \n",
       "11952  COOP:352709  EUGENE MAHLON SWEET FIELD OR US      107.6   44.1278   \n",
       "11953  COOP:352709  EUGENE MAHLON SWEET FIELD OR US      107.6   44.1278   \n",
       "11954  COOP:352709  EUGENE MAHLON SWEET FIELD OR US      107.6   44.1278   \n",
       "11955  COOP:352709  EUGENE MAHLON SWEET FIELD OR US      107.6   44.1278   \n",
       "...            ...                              ...        ...       ...   \n",
       "13663  COOP:352709  EUGENE MAHLON SWEET FIELD OR US      107.6   44.1278   \n",
       "13664  COOP:352709  EUGENE MAHLON SWEET FIELD OR US      107.6   44.1278   \n",
       "13665  COOP:352709  EUGENE MAHLON SWEET FIELD OR US      107.6   44.1278   \n",
       "13666  COOP:352709  EUGENE MAHLON SWEET FIELD OR US      107.6   44.1278   \n",
       "13667  COOP:352709  EUGENE MAHLON SWEET FIELD OR US      107.6   44.1278   \n",
       "\n",
       "       LONGITUDE            DATE  HPCP(cm)     date and time  \n",
       "11951  -123.2206  20070101 14:00      0.00    1/1/2007 14:00  \n",
       "11952  -123.2206  20070101 15:00      0.00    1/1/2007 15:00  \n",
       "11953  -123.2206  20070102 17:00      0.25    1/2/2007 17:00  \n",
       "11954  -123.2206  20070102 18:00      4.83    1/2/2007 18:00  \n",
       "11955  -123.2206  20070102 19:00      3.56    1/2/2007 19:00  \n",
       "...          ...             ...       ...               ...  \n",
       "13663  -123.2206  20071230 14:00      0.00  12/30/2007 14:00  \n",
       "13664  -123.2206  20071230 15:00      0.00  12/30/2007 15:00  \n",
       "13665  -123.2206  20071230 16:00      1.27  12/30/2007 16:00  \n",
       "13666  -123.2206  20071230 17:00      0.25  12/30/2007 17:00  \n",
       "13667  -123.2206  20071230 18:00      0.25  12/30/2007 18:00  \n",
       "\n",
       "[1717 rows x 8 columns]"
      ]
     },
     "execution_count": 15,
     "metadata": {},
     "output_type": "execute_result"
    }
   ],
   "source": [
    "df3 = df1.tail(-11951)\n",
    "print(\"Data of 2007\")\n",
    "df3"
   ]
  },
  {
   "cell_type": "code",
   "execution_count": 16,
   "id": "8f8f3c6f",
   "metadata": {
    "execution": {
     "iopub.execute_input": "2022-09-14T11:36:10.647957Z",
     "iopub.status.busy": "2022-09-14T11:36:10.647504Z",
     "iopub.status.idle": "2022-09-14T11:36:10.653938Z",
     "shell.execute_reply": "2022-09-14T11:36:10.652236Z"
    },
    "papermill": {
     "duration": 0.019017,
     "end_time": "2022-09-14T11:36:10.656416",
     "exception": false,
     "start_time": "2022-09-14T11:36:10.637399",
     "status": "completed"
    },
    "tags": []
   },
   "outputs": [],
   "source": [
    "val2 = df3[\"HPCP(cm)\"].sum()"
   ]
  },
  {
   "cell_type": "code",
   "execution_count": 17,
   "id": "46f54957",
   "metadata": {
    "execution": {
     "iopub.execute_input": "2022-09-14T11:36:10.676361Z",
     "iopub.status.busy": "2022-09-14T11:36:10.675972Z",
     "iopub.status.idle": "2022-09-14T11:36:10.680219Z",
     "shell.execute_reply": "2022-09-14T11:36:10.679132Z"
    },
    "papermill": {
     "duration": 0.017226,
     "end_time": "2022-09-14T11:36:10.682670",
     "exception": false,
     "start_time": "2022-09-14T11:36:10.665444",
     "status": "completed"
    },
    "tags": []
   },
   "outputs": [],
   "source": [
    "final_value2 = val2 * 0.01"
   ]
  },
  {
   "cell_type": "code",
   "execution_count": 18,
   "id": "70bd1c57",
   "metadata": {
    "execution": {
     "iopub.execute_input": "2022-09-14T11:36:10.702582Z",
     "iopub.status.busy": "2022-09-14T11:36:10.701944Z",
     "iopub.status.idle": "2022-09-14T11:36:10.707775Z",
     "shell.execute_reply": "2022-09-14T11:36:10.706311Z"
    },
    "papermill": {
     "duration": 0.019224,
     "end_time": "2022-09-14T11:36:10.710574",
     "exception": false,
     "start_time": "2022-09-14T11:36:10.691350",
     "status": "completed"
    },
    "tags": []
   },
   "outputs": [
    {
     "name": "stdout",
     "output_type": "stream",
     "text": [
      "Total precipitation was there in 2007 in meters:  8.677000000000001 Meters\n"
     ]
    }
   ],
   "source": [
    "print(\"Total precipitation was there in 2007 in meters: \", final_value2, \"Meters\")"
   ]
  },
  {
   "cell_type": "markdown",
   "id": "f6b215be",
   "metadata": {
    "papermill": {
     "duration": 0.008528,
     "end_time": "2022-09-14T11:36:10.727919",
     "exception": false,
     "start_time": "2022-09-14T11:36:10.719391",
     "status": "completed"
    },
    "tags": []
   },
   "source": [
    "### conclusion\n",
    "The precipitation value of 2007 is slightly larger then 2000"
   ]
  }
 ],
 "metadata": {
  "kernelspec": {
   "display_name": "Python 3",
   "language": "python",
   "name": "python3"
  },
  "language_info": {
   "codemirror_mode": {
    "name": "ipython",
    "version": 3
   },
   "file_extension": ".py",
   "mimetype": "text/x-python",
   "name": "python",
   "nbconvert_exporter": "python",
   "pygments_lexer": "ipython3",
   "version": "3.7.12"
  },
  "papermill": {
   "default_parameters": {},
   "duration": 13.884209,
   "end_time": "2022-09-14T11:36:11.459965",
   "environment_variables": {},
   "exception": null,
   "input_path": "__notebook__.ipynb",
   "output_path": "__notebook__.ipynb",
   "parameters": {},
   "start_time": "2022-09-14T11:35:57.575756",
   "version": "2.3.4"
  }
 },
 "nbformat": 4,
 "nbformat_minor": 5
}
